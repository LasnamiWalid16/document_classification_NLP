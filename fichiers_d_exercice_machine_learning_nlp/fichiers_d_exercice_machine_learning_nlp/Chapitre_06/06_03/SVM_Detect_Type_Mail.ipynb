{
 "cells": [
  {
   "cell_type": "code",
   "execution_count": null,
   "id": "3744277a",
   "metadata": {},
   "outputs": [],
   "source": [
    "import nltk\n",
    "import pandas as pd\n",
    "import re\n",
    "from sklearn.feature_extraction.text import CountVectorizer\n",
    "import string\n",
    "  \n",
    " \n",
    "\n",
    "data = pd.read_csv(\"../../Data/SMSSpamCollection.txt\", sep='\\t', header=None)\n",
    "data.columns = ['label', 'Content']\n",
    "\n",
    "en_stopwords = nltk.corpus.stopwords.words('english')\n",
    "ps = nltk.PorterStemmer()"
   ]
  },
  {
   "cell_type": "code",
   "execution_count": null,
   "id": "ca83ddfb",
   "metadata": {},
   "outputs": [],
   "source": [
    "data"
   ]
  },
  {
   "cell_type": "markdown",
   "id": "f26a2efe",
   "metadata": {},
   "source": [
    "<h3>Now we are goining to crete a variable witch contains the length of the mail content</h3>"
   ]
  },
  {
   "cell_type": "code",
   "execution_count": null,
   "id": "6f11b78d",
   "metadata": {},
   "outputs": [],
   "source": [
    "data['Content_len'] = data['Content'].apply(lambda x: len(x) - x.count(\" \"))"
   ]
  },
  {
   "cell_type": "code",
   "execution_count": null,
   "id": "833c99da",
   "metadata": {},
   "outputs": [],
   "source": [
    "data.head()"
   ]
  },
  {
   "cell_type": "markdown",
   "id": "f12c7287",
   "metadata": {},
   "source": [
    "<h3>Now we are goining to crete a function witch return the punctuation rate of email's content</h3>\n"
   ]
  },
  {
   "cell_type": "code",
   "execution_count": null,
   "id": "99f9c63f",
   "metadata": {},
   "outputs": [],
   "source": [
    "def punctuation_rate(text):\n",
    "    nb_punctuation = sum([1 for ch in text if ch in string.punctuation])\n",
    "    text_size = len(text) - text.count(\" \") # la longueur d'email sans les espaces\n",
    "    return round(nb_punctuation/(text_size),4)*100\n",
    "    "
   ]
  },
  {
   "cell_type": "code",
   "execution_count": null,
   "id": "2fd7d364",
   "metadata": {},
   "outputs": [],
   "source": [
    "data['punctuation_rate'] = data['Content'].apply(lambda x:punctuation_rate(x) )"
   ]
  },
  {
   "cell_type": "code",
   "execution_count": null,
   "id": "155af6d0",
   "metadata": {},
   "outputs": [],
   "source": [
    "data.head()"
   ]
  },
  {
   "cell_type": "markdown",
   "id": "32972335",
   "metadata": {},
   "source": [
    "<h3>Now we are goining to crete a function witch return the cleaning Content i.e without stopwords and ...</h3>\n"
   ]
  },
  {
   "cell_type": "code",
   "execution_count": null,
   "id": "bacb8abf",
   "metadata": {},
   "outputs": [],
   "source": [
    "def clean_email(text):\n",
    "    result  = \"\".join([word for word in text if word not in string.punctuation ])\n",
    "    splited = re.split('W+',result)\n",
    "    final = [ps.stem(word) for word in splited if word not in en_stopwords ]\n",
    "    return final\n"
   ]
  },
  {
   "cell_type": "code",
   "execution_count": null,
   "id": "41d683a4",
   "metadata": {},
   "outputs": [],
   "source": [
    "vectorization_full = CountVectorizer(analyzer=clean_email)\n",
    "vect_final = vectorization_full.fit_transform(data['Content'])"
   ]
  },
  {
   "cell_type": "code",
   "execution_count": null,
   "id": "7a8c4038",
   "metadata": {},
   "outputs": [],
   "source": [
    "all_data = pd.concat([pd.DataFrame(vect_final.toarray()), data['Content_len'], data['punctuation_rate']],axis=1)"
   ]
  },
  {
   "cell_type": "code",
   "execution_count": null,
   "id": "b7349782",
   "metadata": {},
   "outputs": [],
   "source": [
    "all_data"
   ]
  },
  {
   "cell_type": "markdown",
   "id": "653494f6",
   "metadata": {},
   "source": [
    "<h3>Fiting the model SVM</h3>\n"
   ]
  },
  {
   "cell_type": "code",
   "execution_count": null,
   "id": "f3359f21",
   "metadata": {},
   "outputs": [],
   "source": [
    "from sklearn.model_selection import train_test_split\n",
    "from sklearn.metrics import precision_recall_fscore_support"
   ]
  },
  {
   "cell_type": "code",
   "execution_count": null,
   "id": "5c9558fc",
   "metadata": {},
   "outputs": [],
   "source": [
    "X_train, X_test, y_train, y_test = train_test_split(all_data,data['label'],test_size=0.2)"
   ]
  },
  {
   "cell_type": "code",
   "execution_count": null,
   "id": "79dc4644",
   "metadata": {},
   "outputs": [],
   "source": [
    "from sklearn import svm"
   ]
  },
  {
   "cell_type": "code",
   "execution_count": null,
   "id": "ebc417ed",
   "metadata": {},
   "outputs": [],
   "source": [
    "alg_svm = svm.SVC(kernel='linear')"
   ]
  },
  {
   "cell_type": "code",
   "execution_count": null,
   "id": "08cd0f02",
   "metadata": {},
   "outputs": [],
   "source": [
    "alg_svm.fit(X_train,y_train)"
   ]
  }
 ],
 "metadata": {
  "kernelspec": {
   "display_name": "Python 3",
   "language": "python",
   "name": "python3"
  },
  "language_info": {
   "codemirror_mode": {
    "name": "ipython",
    "version": 3
   },
   "file_extension": ".py",
   "mimetype": "text/x-python",
   "name": "python",
   "nbconvert_exporter": "python",
   "pygments_lexer": "ipython3",
   "version": "3.8.8"
  }
 },
 "nbformat": 4,
 "nbformat_minor": 5
}
