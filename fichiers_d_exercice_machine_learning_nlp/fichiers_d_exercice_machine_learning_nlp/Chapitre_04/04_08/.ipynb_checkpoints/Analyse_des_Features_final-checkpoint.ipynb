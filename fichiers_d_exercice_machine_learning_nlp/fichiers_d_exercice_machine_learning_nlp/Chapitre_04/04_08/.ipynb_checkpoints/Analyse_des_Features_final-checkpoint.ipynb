{
 "cells": [
  {
   "cell_type": "code",
   "execution_count": null,
   "metadata": {},
   "outputs": [],
   "source": [
    "import pandas as pd\n",
    "import re\n",
    "import string\n",
    "import nltk\n",
    "import string\n",
    "\n",
    "\n",
    "pd.set_option('display.max_colwidth', 100)\n",
    "\n",
    "data = pd.read_csv(\"../../Data/SMSSpamCollection.txt\", sep='\\t', header=None)\n",
    "data.columns = ['label', 'Content']\n",
    "\n",
    "en_stopwords = nltk.corpus.stopwords.words('english')\n",
    "ps = nltk.PorterStemmer()\n",
    "\n",
    "data.head()\n"
   ]
  },
  {
   "cell_type": "code",
   "execution_count": null,
   "metadata": {},
   "outputs": [],
   "source": [
    "data['Content_len'] = data['Content'].apply(lambda x: len(x) - x.count(\" \"))\n",
    "\n",
    "data.head()"
   ]
  },
  {
   "cell_type": "code",
   "execution_count": null,
   "metadata": {},
   "outputs": [],
   "source": [
    "def count_punctuation(text):\n",
    "    binary_array = [1 for ch in text if ch in string.punctuation] \n",
    "    nb_ponctuation = sum(binary_array)\n",
    "    total = len(text) - text.count(\" \")\n",
    "    return round(nb_ponctuation/(total), 4)*100\n",
    "\n",
    "data['punctuation_rate'] = data['Content'].apply(lambda x: count_punctuation(x))\n",
    "\n",
    "data.head()"
   ]
  },
  {
   "cell_type": "code",
   "execution_count": null,
   "metadata": {},
   "outputs": [],
   "source": [
    "from matplotlib import pyplot\n",
    "import numpy as np\n",
    "%matplotlib inline"
   ]
  },
  {
   "cell_type": "code",
   "execution_count": null,
   "metadata": {},
   "outputs": [],
   "source": [
    "bins = np.linspace(0, 200, 40)\n",
    "\n",
    "pyplot.hist(data[data['label']=='spam']['Content_len'], bins, alpha=0.5, normed=True, label='spam')\n",
    "pyplot.hist(data[data['label']=='ham']['Content_len'], bins, alpha=0.5, normed=True, label='ham')\n",
    "pyplot.legend(loc='upper right')\n",
    "pyplot.show()"
   ]
  },
  {
   "cell_type": "code",
   "execution_count": null,
   "metadata": {},
   "outputs": [],
   "source": [
    "bins = np.linspace(0, 50, 40)\n",
    "\n",
    "pyplot.hist(data[data['label']=='spam']['punctuation_rate'], bins, alpha=0.5, normed=True, label='spam')\n",
    "pyplot.hist(data[data['label']=='ham']['punctuation_rate'], bins, alpha=0.5, normed=True, label='ham')\n",
    "pyplot.legend(loc='upper right')\n",
    "pyplot.show()"
   ]
  },
  {
   "cell_type": "code",
   "execution_count": null,
   "metadata": {},
   "outputs": [],
   "source": []
  }
 ],
 "metadata": {
  "kernelspec": {
   "display_name": "Python 3",
   "language": "python",
   "name": "python3"
  },
  "language_info": {
   "codemirror_mode": {
    "name": "ipython",
    "version": 3
   },
   "file_extension": ".py",
   "mimetype": "text/x-python",
   "name": "python",
   "nbconvert_exporter": "python",
   "pygments_lexer": "ipython3",
   "version": "3.7.6"
  }
 },
 "nbformat": 4,
 "nbformat_minor": 4
}
