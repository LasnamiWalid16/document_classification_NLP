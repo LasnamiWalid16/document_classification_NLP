{
 "cells": [
  {
   "cell_type": "code",
   "execution_count": 1,
   "id": "8821a660",
   "metadata": {},
   "outputs": [],
   "source": [
    "import re\n",
    "\n",
    "test1 = 'Nous allons tester le module re de Python'\n",
    "test2 = 'Nous  allons  tester  le  module re  de        Python'\n",
    "test3 = 'Nous-allons-tester-le-module/re/de-Python'"
   ]
  },
  {
   "cell_type": "code",
   "execution_count": 2,
   "id": "4a641833",
   "metadata": {},
   "outputs": [
    {
     "data": {
      "text/plain": [
       "['Nous', 'allons', 'tester', 'le', 'module', 're', 'de', 'Python']"
      ]
     },
     "execution_count": 2,
     "metadata": {},
     "output_type": "execute_result"
    }
   ],
   "source": [
    "re.split('\\s',test1)"
   ]
  },
  {
   "cell_type": "code",
   "execution_count": 3,
   "id": "6669b874",
   "metadata": {},
   "outputs": [
    {
     "data": {
      "text/plain": [
       "['Nous',\n",
       " '',\n",
       " 'allons',\n",
       " '',\n",
       " 'tester',\n",
       " '',\n",
       " 'le',\n",
       " '',\n",
       " 'module',\n",
       " 're',\n",
       " '',\n",
       " 'de',\n",
       " '',\n",
       " '',\n",
       " '',\n",
       " '',\n",
       " '',\n",
       " '',\n",
       " '',\n",
       " 'Python']"
      ]
     },
     "execution_count": 3,
     "metadata": {},
     "output_type": "execute_result"
    }
   ],
   "source": [
    "re.split('\\s',test2)"
   ]
  },
  {
   "cell_type": "markdown",
   "id": "bbc383a5",
   "metadata": {},
   "source": [
    "<h3>When spliting the text test1 the modulue re generate a list witch contains elements (words)\n",
    "- whene generation a list from the text \"test2\" we saw that re generate allso a list witch contains elements not only words but spaces => in this case whene we have a lot of spaces between words we choose the method \"\\s+\"</h3>"
   ]
  },
  {
   "cell_type": "code",
   "execution_count": 5,
   "id": "6a4866b7",
   "metadata": {},
   "outputs": [
    {
     "data": {
      "text/plain": [
       "['Nous', 'allons', 'tester', 'le', 'module', 're', 'de', 'Python']"
      ]
     },
     "execution_count": 5,
     "metadata": {},
     "output_type": "execute_result"
    }
   ],
   "source": [
    "re.split('\\s+',test2)"
   ]
  },
  {
   "cell_type": "code",
   "execution_count": 8,
   "id": "45dc1b46",
   "metadata": {},
   "outputs": [
    {
     "data": {
      "text/plain": [
       "['Nous', 'allons', 'tester', 'le', 'module', 're', 'de', 'Python']"
      ]
     },
     "execution_count": 8,
     "metadata": {},
     "output_type": "execute_result"
    }
   ],
   "source": [
    "re.split('\\W+',test3)"
   ]
  }
 ],
 "metadata": {
  "kernelspec": {
   "display_name": "Python 3",
   "language": "python",
   "name": "python3"
  },
  "language_info": {
   "codemirror_mode": {
    "name": "ipython",
    "version": 3
   },
   "file_extension": ".py",
   "mimetype": "text/x-python",
   "name": "python",
   "nbconvert_exporter": "python",
   "pygments_lexer": "ipython3",
   "version": "3.8.8"
  }
 },
 "nbformat": 4,
 "nbformat_minor": 5
}
