{
 "cells": [
  {
   "cell_type": "code",
   "execution_count": 38,
   "id": "9b4eb365",
   "metadata": {},
   "outputs": [],
   "source": [
    "import re\n",
    "\n",
    "test1 = 'Nous allons tester le module re de Python'\n",
    "test2 = 'Nous  allons  tester  le  module re  de        Python'\n",
    "test3 = 'Nous-allons-tester3-le-module/re/de-Python'"
   ]
  },
  {
   "cell_type": "code",
   "execution_count": 39,
   "id": "d68de0ce",
   "metadata": {},
   "outputs": [
    {
     "data": {
      "text/plain": [
       "['Nous-', 'allons', 'tester', 'le', 'module', 're', 'de', 'Python']"
      ]
     },
     "execution_count": 39,
     "metadata": {},
     "output_type": "execute_result"
    }
   ],
   "source": [
    "re.findall('\\S+',test1)"
   ]
  },
  {
   "cell_type": "code",
   "execution_count": 6,
   "id": "3949fb4f",
   "metadata": {},
   "outputs": [
    {
     "data": {
      "text/plain": [
       "['Nous', 'allons', 'tester', 'le', 'module', 're', 'de', 'Python']"
      ]
     },
     "execution_count": 6,
     "metadata": {},
     "output_type": "execute_result"
    }
   ],
   "source": [
    "re.findall('\\S+',test2)"
   ]
  },
  {
   "cell_type": "code",
   "execution_count": 32,
   "id": "1829504a",
   "metadata": {},
   "outputs": [
    {
     "data": {
      "text/plain": [
       "['Nous-allons-tester3-le-module/re/de-Python']"
      ]
     },
     "execution_count": 32,
     "metadata": {},
     "output_type": "execute_result"
    }
   ],
   "source": [
    "re.findall('\\S+',test3)"
   ]
  },
  {
   "cell_type": "code",
   "execution_count": 7,
   "id": "6178ee0f",
   "metadata": {},
   "outputs": [],
   "source": [
    "test= 'Mon langage préféré est le langage PYTHON'"
   ]
  },
  {
   "cell_type": "code",
   "execution_count": 11,
   "id": "6049c075",
   "metadata": {},
   "outputs": [
    {
     "data": {
      "text/plain": [
       "['on', 'langage', 'pr', 'f', 'r', 'est', 'le', 'langage']"
      ]
     },
     "execution_count": 11,
     "metadata": {},
     "output_type": "execute_result"
    }
   ],
   "source": [
    "re.findall('[a-z]+',test)"
   ]
  },
  {
   "cell_type": "code",
   "execution_count": 14,
   "id": "f028d75b",
   "metadata": {},
   "outputs": [
    {
     "data": {
      "text/plain": [
       "['on', 'langage', 'préféré', 'est', 'le', 'langage']"
      ]
     },
     "execution_count": 14,
     "metadata": {},
     "output_type": "execute_result"
    }
   ],
   "source": [
    "re.findall('[a-z\\u00C0-\\u00FF]+',test)"
   ]
  },
  {
   "cell_type": "code",
   "execution_count": 17,
   "id": "528c6222",
   "metadata": {},
   "outputs": [
    {
     "data": {
      "text/plain": [
       "['Mon']"
      ]
     },
     "execution_count": 17,
     "metadata": {},
     "output_type": "execute_result"
    }
   ],
   "source": [
    "re.findall('[A-Z]+[a-z]+',test)"
   ]
  },
  {
   "cell_type": "code",
   "execution_count": 18,
   "id": "7fa1cb23",
   "metadata": {},
   "outputs": [
    {
     "data": {
      "text/plain": [
       "['Mon', 'PYTHON']"
      ]
     },
     "execution_count": 18,
     "metadata": {},
     "output_type": "execute_result"
    }
   ],
   "source": [
    "re.findall('[A-Z]+[a-z]*',test)"
   ]
  },
  {
   "cell_type": "code",
   "execution_count": 21,
   "id": "b6e3d6c1",
   "metadata": {},
   "outputs": [
    {
     "data": {
      "text/plain": [
       "'C++on langage préféré est le langage C++'"
      ]
     },
     "execution_count": 21,
     "metadata": {},
     "output_type": "execute_result"
    }
   ],
   "source": [
    "re.sub('[A-Z]+','C++',test)"
   ]
  },
  {
   "cell_type": "markdown",
   "id": "4ea85ea3",
   "metadata": {},
   "source": [
    "<h3>Above we used re.sub to replace the word with UpperCase (all of the word) with the word C++</h3>"
   ]
  },
  {
   "cell_type": "code",
   "execution_count": 22,
   "id": "9b7851d8",
   "metadata": {},
   "outputs": [
    {
     "data": {
      "text/plain": [
       "'Mon langage préféré est le langage C++'"
      ]
     },
     "execution_count": 22,
     "metadata": {},
     "output_type": "execute_result"
    }
   ],
   "source": [
    "re.sub('[A-Z]+[A-Z]','C++',test)"
   ]
  },
  {
   "cell_type": "code",
   "execution_count": 28,
   "id": "8a1df87d",
   "metadata": {},
   "outputs": [
    {
     "data": {
      "text/plain": [
       "['M', 'PYTHON']"
      ]
     },
     "execution_count": 28,
     "metadata": {},
     "output_type": "execute_result"
    }
   ],
   "source": [
    "re.findall('[A-Z]+',test)"
   ]
  },
  {
   "cell_type": "code",
   "execution_count": 29,
   "id": "3b851a0c",
   "metadata": {},
   "outputs": [
    {
     "data": {
      "text/plain": [
       "['PYTHON']"
      ]
     },
     "execution_count": 29,
     "metadata": {},
     "output_type": "execute_result"
    }
   ],
   "source": [
    "re.findall('[A-Z]+[A-Z]',test)"
   ]
  }
 ],
 "metadata": {
  "kernelspec": {
   "display_name": "Python 3",
   "language": "python",
   "name": "python3"
  },
  "language_info": {
   "codemirror_mode": {
    "name": "ipython",
    "version": 3
   },
   "file_extension": ".py",
   "mimetype": "text/x-python",
   "name": "python",
   "nbconvert_exporter": "python",
   "pygments_lexer": "ipython3",
   "version": "3.8.8"
  }
 },
 "nbformat": 4,
 "nbformat_minor": 5
}
