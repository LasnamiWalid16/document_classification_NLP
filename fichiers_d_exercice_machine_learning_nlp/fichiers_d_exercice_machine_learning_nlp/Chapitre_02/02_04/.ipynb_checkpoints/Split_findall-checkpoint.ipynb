{
 "cells": [
  {
   "cell_type": "code",
   "execution_count": 1,
   "id": "152dd134",
   "metadata": {},
   "outputs": [],
   "source": [
    "import re\n",
    "\n",
    "test1 = 'Nous allons tester le module re de Python'\n",
    "test2 = 'Nous  allons  tester  le  module re  de        Python'\n",
    "test3 = 'Nous-allons-tester-le-module/re/de-Python'"
   ]
  },
  {
   "cell_type": "code",
   "execution_count": 2,
   "id": "8a07c545",
   "metadata": {},
   "outputs": [
    {
     "data": {
      "text/plain": [
       "['Nous', 'allons', 'tester', 'le', 'module', 're', 'de', 'Python']"
      ]
     },
     "execution_count": 2,
     "metadata": {},
     "output_type": "execute_result"
    }
   ],
   "source": [
    "re.findall('\\S+',test1)"
   ]
  },
  {
   "cell_type": "code",
   "execution_count": 6,
   "id": "a689a7c1",
   "metadata": {},
   "outputs": [
    {
     "data": {
      "text/plain": [
       "['Nous', 'allons', 'tester', 'le', 'module', 're', 'de', 'Python']"
      ]
     },
     "execution_count": 6,
     "metadata": {},
     "output_type": "execute_result"
    }
   ],
   "source": [
    "re.findall('\\S+',test2)"
   ]
  },
  {
   "cell_type": "code",
   "execution_count": 7,
   "id": "b35cd166",
   "metadata": {},
   "outputs": [],
   "source": [
    "test= 'Mon langage préféré est le langage PYTHON'"
   ]
  },
  {
   "cell_type": "code",
   "execution_count": 11,
   "id": "b4d01769",
   "metadata": {},
   "outputs": [
    {
     "data": {
      "text/plain": [
       "['on', 'langage', 'pr', 'f', 'r', 'est', 'le', 'langage']"
      ]
     },
     "execution_count": 11,
     "metadata": {},
     "output_type": "execute_result"
    }
   ],
   "source": [
    "re.findall('[a-z]+',test)"
   ]
  },
  {
   "cell_type": "code",
   "execution_count": 14,
   "id": "6e6e7a79",
   "metadata": {},
   "outputs": [
    {
     "data": {
      "text/plain": [
       "['on', 'langage', 'préféré', 'est', 'le', 'langage']"
      ]
     },
     "execution_count": 14,
     "metadata": {},
     "output_type": "execute_result"
    }
   ],
   "source": [
    "re.findall('[a-z\\u00C0-\\u00FF]+',test)"
   ]
  },
  {
   "cell_type": "code",
   "execution_count": 17,
   "id": "c8bbabe6",
   "metadata": {},
   "outputs": [
    {
     "data": {
      "text/plain": [
       "['Mon']"
      ]
     },
     "execution_count": 17,
     "metadata": {},
     "output_type": "execute_result"
    }
   ],
   "source": [
    "re.findall('[A-Z]+[a-z]+',test)"
   ]
  },
  {
   "cell_type": "code",
   "execution_count": 18,
   "id": "c4d96087",
   "metadata": {},
   "outputs": [
    {
     "data": {
      "text/plain": [
       "['Mon', 'PYTHON']"
      ]
     },
     "execution_count": 18,
     "metadata": {},
     "output_type": "execute_result"
    }
   ],
   "source": [
    "re.findall('[A-Z]+[a-z]*',test)"
   ]
  },
  {
   "cell_type": "code",
   "execution_count": null,
   "id": "1660e409",
   "metadata": {},
   "outputs": [],
   "source": []
  }
 ],
 "metadata": {
  "kernelspec": {
   "display_name": "Python 3",
   "language": "python",
   "name": "python3"
  },
  "language_info": {
   "codemirror_mode": {
    "name": "ipython",
    "version": 3
   },
   "file_extension": ".py",
   "mimetype": "text/x-python",
   "name": "python",
   "nbconvert_exporter": "python",
   "pygments_lexer": "ipython3",
   "version": "3.8.8"
  }
 },
 "nbformat": 4,
 "nbformat_minor": 5
}
